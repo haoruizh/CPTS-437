{
  "nbformat": 4,
  "nbformat_minor": 0,
  "metadata": {
    "colab": {
      "name": "Copy of 20newsgroups.ipynb",
      "provenance": [],
      "collapsed_sections": [],
      "include_colab_link": true
    },
    "kernelspec": {
      "name": "python3",
      "display_name": "Python 3"
    }
  },
  "cells": [
    {
      "cell_type": "markdown",
      "metadata": {
        "id": "view-in-github",
        "colab_type": "text"
      },
      "source": [
        "<a href=\"https://colab.research.google.com/github/haoruizh/CPTS-437/blob/main/Copy_of_20newsgroups.ipynb\" target=\"_parent\"><img src=\"https://colab.research.google.com/assets/colab-badge.svg\" alt=\"Open In Colab\"/></a>"
      ]
    },
    {
      "cell_type": "code",
      "metadata": {
        "id": "XeSF3k1M-Rce",
        "colab": {
          "base_uri": "https://localhost:8080/"
        },
        "outputId": "a8a49189-0f37-48cf-dcac-3ea2cd89cf60"
      },
      "source": [
        "# https://scikit-learn.org/0.19/datasets/twenty_newsgroups.html\n",
        "from sklearn.datasets import fetch_20newsgroups\n",
        "\n",
        "from sklearn.feature_extraction.text import CountVectorizer\n",
        "from sklearn.naive_bayes import MultinomialNB\n",
        "from sklearn.metrics import confusion_matrix\n",
        "from sklearn.model_selection import cross_val_score\n",
        "from sklearn.model_selection import train_test_split\n",
        "from sklearn.feature_extraction.text import TfidfTransformer\n",
        "from sklearn.feature_extraction import stop_words\n",
        "from nltk.tokenize import TreebankWordTokenizer\n",
        "\n",
        "import numpy as np\n",
        "import pandas as pd\n",
        "import pprint\n",
        "\n",
        "# We will work with 12 of the 20 categories\n",
        "categories = ['rec.autos', 'rec.motorcycles', 'rec.sport.baseball', \\\n",
        "              'rec.sport.hockey', 'sci.med', 'sci.space', 'sci.electronics', \\\n",
        "              'comp.graphics', 'comp.windows.x', 'talk.religion.misc', \\\n",
        "              'talk.politics.mideast', 'talk.politics.misc']\n",
        "newsgroups = fetch_20newsgroups(categories=categories)\n",
        "\n",
        "print('List of newsgroup categories:')\n",
        "print(list(newsgroups.target_names))\n",
        "print(\"\\n\")\n",
        "\n",
        "\n",
        "# print first line of the first data file as a sample\n",
        "\"\"\"\n",
        "print('Sample file')\n",
        "print(\"\\n\".join(newsgroups.data[2].split(\"\\n\")[:10]))\n",
        "print(\"\\n\")\n",
        "print('data', newsgroups.data[2])\n",
        "\"\"\"\n",
        "\n",
        "# convert collection of documents to matrix of string (word) counts\n",
        "count_vect = CountVectorizer()\n",
        "\n",
        "# use regular expressions to convert text to tokens\n",
        "# split contractions, separate punctuation\n",
        "tokenizer = TreebankWordTokenizer()\n",
        "count_vect.set_params(tokenizer=tokenizer.tokenize)\n",
        "\n",
        "# remove English stop words (try with and without this)\n",
        "count_vect.set_params(stop_words='english')\n",
        "print(stop_words.ENGLISH_STOP_WORDS)\n",
        "\n",
        "# include 1-grams and 2-grams\n",
        "count_vect.set_params(ngram_range=(1,2))\n",
        "\n",
        "# ignore terms that appear in >50% of the documents, try with and without this\n",
        "count_vect.set_params(max_df=0.5)\n",
        "\n",
        "# ignore terms that appear in only 1 document, try with and without this\n",
        "count_vect.set_params(min_df=2)\n",
        "\n",
        "# transform text to bag of words vector using parameters\n",
        "X_counts = count_vect.fit_transform(newsgroups.data)\n",
        "\n",
        "# normalize counts based on document length\n",
        "# weight common words less (is, a, an, the)\n",
        "tfidf_transformer = TfidfTransformer()\n",
        "X_tfidf = tfidf_transformer.fit_transform(X_counts)\n",
        "\n",
        "# train a naive Bayes classifier on data, multinomial for discrete features\n",
        "clf = MultinomialNB().fit(X_tfidf, newsgroups.target)\n",
        "scores = cross_val_score(clf, X_tfidf, newsgroups.target, cv=3, \\\n",
        "                         scoring='accuracy')\n",
        "print('Number of documents:', len(newsgroups.target), ', 3-fold accuracy:', np.mean(scores))\n",
        "\n",
        "\n",
        "def detailed_report():\n",
        "  X_train, X_test, y_train, y_test = train_test_split(X_tfidf, newsgroups.target, test_size = 0.33)\n",
        "  clf.fit(X_train, y_train)\n",
        "  y_pred = clf.predict(X_test)\n",
        "\n",
        "  #y_true_labels = list(map(lambda x: newsgroups.target_names[x], y_test))\n",
        "  #y_pred_labels = list(map(lambda x: newsgroups.target_names[x], y_pred))\n",
        "\n",
        "  # confusion matrix, show first time\n",
        "  print('Confusion matrix:')\n",
        "  pprint.pprint(newsgroups.target_names, width=200)\n",
        "  print(confusion_matrix(y_test, y_pred))"
      ],
      "execution_count": null,
      "outputs": [
        {
          "output_type": "stream",
          "text": [
            "List of newsgroup categories:\n",
            "['comp.graphics', 'comp.windows.x', 'rec.autos', 'rec.motorcycles', 'rec.sport.baseball', 'rec.sport.hockey', 'sci.electronics', 'sci.med', 'sci.space', 'talk.politics.mideast', 'talk.politics.misc', 'talk.religion.misc']\n",
            "\n",
            "\n",
            "frozenset({'noone', 'several', 'wherein', 'you', 'between', 'those', 'him', 'now', 'whereas', 'their', 'mine', 'thereby', 'whither', 'afterwards', 'will', 'less', 'own', 'per', 'front', 'whatever', 'in', 'above', 'seemed', 'eleven', 'hereby', 'nowhere', 'also', 'but', 'alone', 'again', 'themselves', 'while', 'her', 'your', 'by', 'off', 'part', 'may', 'yourselves', 'serious', 'top', 'were', 'more', 'full', 'had', 'whether', 'thru', 'ours', 'forty', 'hundred', 'to', 'below', 'beyond', 'whereafter', 'two', 'towards', 'third', 'ever', 'on', 'con', 'though', 'he', 'very', 'as', 'nevertheless', 'beside', 'must', 'seem', 'name', 'himself', 'whom', 'fill', 'who', 'us', 'into', 'put', 'bottom', 'anywhere', 'least', 'sixty', 'made', 'seems', 'that', 'together', 'whereby', 'them', 'after', 'take', 'sometimes', 'former', 'therein', 'keep', 'found', 'except', 'hereafter', 'call', 'myself', 'almost', 'been', 'one', 'becoming', 'over', 'i', 'onto', 'of', 'we', 'before', 'go', 'up', 'move', 'when', 'since', 'fifty', 'inc', 'and', 'every', 'anyone', 'otherwise', 'interest', 'some', 'always', 'which', 'because', 'thereafter', 'hence', 'thick', 'nobody', 'eg', 'here', 'see', 'three', 'our', 'anyway', 'rather', 'at', 'toward', 'un', 'everyone', 'once', 'seeming', 'is', 'hers', 'someone', 'during', 'amongst', 'already', 'much', 'these', 'have', 'everything', 'perhaps', 'then', 'can', 'even', 'it', 'without', 'besides', 'meanwhile', 'down', 'six', 'there', 'yourself', 'others', 'so', 'a', 'amoungst', 'whereupon', 'detail', 'namely', 'de', 'through', 'be', 'yours', 'twenty', 'anyhow', 'has', 'cry', 'what', 'eight', 'back', 'around', 'anything', 'give', 'show', 'herein', 'do', 'both', 'mostly', 'etc', 'am', 'due', 'done', 'yet', 'somehow', 'or', 'sometime', 'wherever', 'itself', 'ten', 'well', 'my', 'get', 'his', 'become', 'other', 'first', 'everywhere', 'for', 'behind', 'within', 'could', 'too', 'cannot', 'out', 'describe', 'same', 'she', 'being', 'until', 'are', 'couldnt', 'all', 'else', 'nine', 'ie', 'most', 'moreover', 'should', 'how', 'fire', 'with', 'each', 'next', 'fifteen', 'ourselves', 'whence', 'hasnt', 'whenever', 'few', 'further', 'against', 'thence', 'becomes', 'never', 'they', 'only', 'ltd', 'thus', 'either', 'from', 'somewhere', 'elsewhere', 'why', 'hereupon', 'beforehand', 'find', 'upon', 'would', 'such', 'enough', 'latter', 'nor', 'any', 'among', 'became', 'often', 'sincere', 'thereupon', 'thin', 'along', 're', 'system', 'five', 'amount', 'another', 'not', 'might', 'the', 'via', 'although', 'nothing', 'its', 'no', 'whose', 'something', 'side', 'bill', 'about', 'empty', 'none', 'co', 'an', 'than', 'twelve', 'therefore', 'four', 'latterly', 'was', 'however', 'whole', 'formerly', 'cant', 'across', 'whoever', 'me', 'neither', 'please', 'throughout', 'under', 'herself', 'many', 'still', 'last', 'this', 'indeed', 'if', 'where', 'mill'})\n",
            "Number of documents: 6750 , 3-fold accuracy: 0.9045925925925925\n"
          ],
          "name": "stdout"
        }
      ]
    }
  ]
}